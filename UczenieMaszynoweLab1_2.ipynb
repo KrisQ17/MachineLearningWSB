{
  "nbformat": 4,
  "nbformat_minor": 0,
  "metadata": {
    "colab": {
      "name": "UczenieMaszynoweRozdzial01",
      "provenance": [],
      "collapsed_sections": []
    },
    "kernelspec": {
      "name": "python3",
      "display_name": "Python 3"
    },
    "language_info": {
      "name": "python"
    }
  },
  "cells": [
    {
      "cell_type": "code",
      "execution_count": 1,
      "metadata": {
        "colab": {
          "base_uri": "https://localhost:8080/"
        },
        "id": "3yAPJJClCcQR",
        "outputId": "911a225b-9f27-4520-c6aa-9464d7a07449"
      },
      "outputs": [
        {
          "output_type": "stream",
          "name": "stdout",
          "text": [
            "[[0.31004477]\n",
            " [0.6398583 ]\n",
            " [0.5409932 ]\n",
            " [0.6292031 ]]\n"
          ]
        }
      ],
      "source": [
        "from keras.models import Sequential\n",
        "from keras.layers import *\n",
        "import numpy as np\n",
        "\n",
        "m = Sequential()\n",
        "m.add(Dense(2,input_dim=2, activation='tanh'))\n",
        "m.add(Dense(12,input_dim=2, activation='tanh'))\n",
        "m.add(Dense(12,input_dim=2, activation='tanh'))\n",
        "#m.add(Activation('tanh'))\n",
        "\n",
        "m.add(Dense(1,activation='sigmoid'))\n",
        "\n",
        "#m.add(Activation('sigmoid'))\n",
        "\n",
        "X = np.array([[0,0],[0,1],[1,0],[1,1]],'float32')\n",
        "Y = np.array([[0],[1],[1],[0]],'float32')\n",
        "\n",
        "m.compile(optimizer='adam',loss='binary_crossentropy')\n",
        "m.fit(X,Y,batch_size=1,epochs=200,verbose=0)\n",
        "print(m.predict(X))"
      ]
    },
    {
      "cell_type": "code",
      "source": [
        "# Funkcja logiczna OR\n",
        "import time\n",
        "from datetime import timedelta\n",
        "from keras.models import Sequential\n",
        "from keras.layers.core import Dense, Dropout, Activation\n",
        "from tensorflow.keras import initializers\n",
        "import numpy as np \n",
        "\n",
        "X = np.array([[0,0],[0,1],[1,0],[1,1]])\n",
        "y = np.array([[0],[1],[1],[1]])\n",
        "\n",
        "def initialize_weights(shape, dtype=None):\n",
        "    return np.random.normal(loc = 0.75, scale = 1e-2, size = shape)\n",
        "\n",
        "model = Sequential()\n",
        "model.add(Dense(2, activation='sigmoid', kernel_initializer=initialize_weights, input_dim=2))\n",
        "model.add(Dense(1, activation='sigmoid'))\n",
        "\n",
        "model.compile(loss='mean_squared_error', \n",
        "              optimizer='adam', \n",
        "              metrics=['accuracy'])\n",
        "\n",
        "print(\"Trenowanie modelu\")\n",
        "start = time.time()\n",
        "model.fit(X, y, batch_size=4, epochs=10000, verbose=0)\n",
        "end = time.time()\n",
        "print(f\"Zakończono trenowanie, czas: {timedelta(seconds=(end - start))}\")\n",
        "print(\"Predykcje dla danych OR -> [[0,0],[0,1],[1,0],[1,1]]\")\n",
        "print(model.predict(X))"
      ],
      "metadata": {
        "colab": {
          "base_uri": "https://localhost:8080/"
        },
        "id": "SeP5bFOJCgP-",
        "outputId": "6a060b4a-82f8-4cb9-8a39-61bf813cce9c"
      },
      "execution_count": 10,
      "outputs": [
        {
          "output_type": "stream",
          "name": "stdout",
          "text": [
            "Trenowanie modelu\n",
            "Zakończono trenowanie, czas: 0:00:19.579689\n",
            "Predykcje dla danych [[0,0],[0,1],[1,0],[1,1]]\n",
            "[[0.0192523 ]\n",
            " [0.99164176]\n",
            " [0.99163103]\n",
            " [0.99799585]]\n"
          ]
        }
      ]
    },
    {
      "cell_type": "code",
      "source": [
        "# Funkcja logiczna NOR\n",
        "X = np.array([[0,0],[0,1],[1,0],[1,1]])\n",
        "y = np.array([[1],[0],[0],[0]])\n",
        "\n",
        "model = Sequential()\n",
        "model.add(Dense(2, activation='sigmoid',  kernel_initializer=initialize_weights, input_dim=2))\n",
        "model.add(Dense(2, activation='sigmoid', input_dim=2))\n",
        "model.add(Dense(1, activation='sigmoid', input_dim=2))\n",
        "\n",
        "model.compile(loss='mean_squared_error', \n",
        "              optimizer='adam', \n",
        "              metrics=['accuracy'])\n",
        "\n",
        "print(\"Trenowanie modelu\")\n",
        "start = time.time()\n",
        "model.fit(X, y, batch_size=10, epochs=5000, verbose=0)\n",
        "end = time.time()\n",
        "print(f\"Zakończono trenowanie, czas: {timedelta(seconds=(end - start))}\")\n",
        "print(\"Predykcje dla danych NOR -> [[0,0],[0,1],[1,0],[1,1]]\")\n",
        "print(model.predict(X))"
      ],
      "metadata": {
        "colab": {
          "base_uri": "https://localhost:8080/"
        },
        "id": "d_eOmIECEunG",
        "outputId": "9f09c7bb-1b74-4907-f2b1-6dc0d7da8d6e"
      },
      "execution_count": 12,
      "outputs": [
        {
          "output_type": "stream",
          "name": "stdout",
          "text": [
            "Trenowanie modelu\n",
            "Zakończono trenowanie, czas: 0:00:10.486159\n",
            "Predykcje dla danych NOR -> [[0,0],[0,1],[1,0],[1,1]]\n",
            "[[0.8543204 ]\n",
            " [0.08576947]\n",
            " [0.08568695]\n",
            " [0.05674818]]\n"
          ]
        }
      ]
    },
    {
      "cell_type": "code",
      "source": [
        "# Funkcja logiczna AND\n",
        "X = np.array([[0,0],[0,1],[1,0],[1,1]])\n",
        "y = np.array([[0],[0],[0],[1]])\n",
        "\n",
        "model = Sequential()\n",
        "model.add(Dense(2, activation='sigmoid',  kernel_initializer=initialize_weights, input_dim=2))\n",
        "model.add(Dense(10, activation='sigmoid', input_dim=2))\n",
        "model.add(Dense(8, activation='sigmoid', input_dim=2))\n",
        "model.add(Dense(6, activation='sigmoid', input_dim=2))\n",
        "model.add(Dense(1, activation='sigmoid', input_dim=2))\n",
        "\n",
        "model.compile(loss='mean_squared_error', \n",
        "              optimizer='adam', \n",
        "              metrics=['accuracy'])\n",
        "\n",
        "print(\"Trenowanie modelu\")\n",
        "start = time.time()\n",
        "model.fit(X, y, batch_size=100, epochs=2000, verbose=0)\n",
        "end = time.time()\n",
        "print(f\"Zakończono trenowanie, czas: {timedelta(seconds=(end - start))}\")\n",
        "print(\"Predykcje dla danych AND -> [[0,0],[0,1],[1,0],[1,1]]\")\n",
        "print(model.predict(X))"
      ],
      "metadata": {
        "colab": {
          "base_uri": "https://localhost:8080/"
        },
        "id": "K9YLdq61FJ49",
        "outputId": "96e95cc4-d24b-4f3a-9998-d3e6daadd2e9"
      },
      "execution_count": 15,
      "outputs": [
        {
          "output_type": "stream",
          "name": "stdout",
          "text": [
            "Trenowanie modelu\n",
            "Zakończono trenowanie, czas: 0:00:04.980429\n",
            "Predykcje dla danych AND -> [[0,0],[0,1],[1,0],[1,1]]\n",
            "[[0.01070425]\n",
            " [0.02013752]\n",
            " [0.02013764]\n",
            " [0.9535277 ]]\n"
          ]
        }
      ]
    },
    {
      "cell_type": "code",
      "source": [
        "# Funkcja logiczna NAND\n",
        "X = np.array([[0,0],[0,1],[1,0],[1,1]])\n",
        "y = np.array([[1],[1],[1],[0]])\n",
        "\n",
        "model = Sequential()\n",
        "model.add(Dense(2, activation='sigmoid',  kernel_initializer=initialize_weights, input_dim=2))\n",
        "model.add(Dense(20, activation='sigmoid', input_dim=2))\n",
        "model.add(Dense(20, activation='sigmoid', input_dim=2))\n",
        "model.add(Dense(20, activation='sigmoid', input_dim=2))\n",
        "model.add(Dense(1, activation='sigmoid', input_dim=2))\n",
        "\n",
        "model.compile(loss='mean_squared_error', \n",
        "              optimizer='adam', \n",
        "              metrics=['accuracy'])\n",
        "\n",
        "print(\"Trenowanie modelu\")\n",
        "start = time.time()\n",
        "model.fit(X, y, batch_size=5, epochs=5000, verbose=0)\n",
        "end = time.time()\n",
        "print(f\"Zakończono trenowanie, czas: {timedelta(seconds=(end - start))}\")\n",
        "print(\"Predykcje dla danych NAND -> [[0,0],[0,1],[1,0],[1,1]]\")\n",
        "print(model.predict(X))"
      ],
      "metadata": {
        "colab": {
          "base_uri": "https://localhost:8080/"
        },
        "id": "TnbnCa1aHJuN",
        "outputId": "cebc5bd1-a7c8-4533-843a-20aa121233b6"
      },
      "execution_count": 17,
      "outputs": [
        {
          "output_type": "stream",
          "name": "stdout",
          "text": [
            "Trenowanie modelu\n",
            "Zakończono trenowanie, czas: 0:00:20.990169\n",
            "Predykcje dla danych NAND -> [[0,0],[0,1],[1,0],[1,1]]\n",
            "[[0.9991084 ]\n",
            " [0.9966727 ]\n",
            " [0.99667144]\n",
            " [0.00571206]]\n"
          ]
        }
      ]
    },
    {
      "cell_type": "code",
      "source": [
        ""
      ],
      "metadata": {
        "id": "-DVh01tjHi9a"
      },
      "execution_count": null,
      "outputs": []
    }
  ]
}