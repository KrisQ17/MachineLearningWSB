{
  "nbformat": 4,
  "nbformat_minor": 0,
  "metadata": {
    "colab": {
      "name": "UczenieMaszynoweLab3_mixup",
      "provenance": [],
      "collapsed_sections": []
    },
    "kernelspec": {
      "name": "python3",
      "display_name": "Python 3"
    },
    "language_info": {
      "name": "python"
    }
  },
  "cells": [
    {
      "cell_type": "code",
      "execution_count": 4,
      "metadata": {
        "id": "w5vxXi_ugU0p"
      },
      "outputs": [],
      "source": [
        "import numpy as np\n",
        "import tensorflow as tf\n",
        "import matplotlib.pyplot as plt\n",
        "from tensorflow.keras import layers\n",
        "\n",
        "AUTO = tf.data.AUTOTUNE\n",
        "BATCH_SIZE = 64\n",
        "EPOCHS = 10"
      ]
    },
    {
      "cell_type": "code",
      "source": [
        "(x_train, y_train), (x_test, y_test) = tf.keras.datasets.fashion_mnist.load_data()\n",
        "\n",
        "x_train = x_train.astype(\"float32\") / 255.0\n",
        "x_train = np.reshape(x_train, (-1, 28, 28, 1))\n",
        "y_train = tf.one_hot(y_train, 10)\n",
        "\n",
        "x_test = x_test.astype(\"float32\") / 255.0\n",
        "x_test = np.reshape(x_test, (-1, 28, 28, 1))\n",
        "y_test = tf.one_hot(y_test, 10)"
      ],
      "metadata": {
        "id": "9Lv2U_-QgWwF"
      },
      "execution_count": 5,
      "outputs": []
    },
    {
      "cell_type": "code",
      "source": [
        "# Put aside a few samples to create our validation set\n",
        "val_samples = 2000\n",
        "x_val, y_val = x_train[:val_samples], y_train[:val_samples]\n",
        "new_x_train, new_y_train = x_train[val_samples:], y_train[val_samples:]\n",
        "\n",
        "train_ds_one = (\n",
        "    tf.data.Dataset.from_tensor_slices((new_x_train, new_y_train))\n",
        "    .shuffle(BATCH_SIZE * 100)\n",
        "    .batch(BATCH_SIZE)\n",
        ")\n",
        "train_ds_two = (\n",
        "    tf.data.Dataset.from_tensor_slices((new_x_train, new_y_train))\n",
        "    .shuffle(BATCH_SIZE * 100)\n",
        "    .batch(BATCH_SIZE)\n",
        ")\n",
        "# Because we will be mixing up the images and their corresponding labels, we will be\n",
        "# combining two shuffled datasets from the same training data.\n",
        "train_ds = tf.data.Dataset.zip((train_ds_one, train_ds_two))\n",
        "\n",
        "val_ds = tf.data.Dataset.from_tensor_slices((x_val, y_val)).batch(BATCH_SIZE)\n",
        "\n",
        "test_ds = tf.data.Dataset.from_tensor_slices((x_test, y_test)).batch(BATCH_SIZE)"
      ],
      "metadata": {
        "id": "l7-oXKGbgYL9"
      },
      "execution_count": 6,
      "outputs": []
    },
    {
      "cell_type": "code",
      "source": [
        "def sample_beta_distribution(size, concentration_0=0.2, concentration_1=0.2):\n",
        "    gamma_1_sample = tf.random.gamma(shape=[size], alpha=concentration_1)\n",
        "    gamma_2_sample = tf.random.gamma(shape=[size], alpha=concentration_0)\n",
        "    return gamma_1_sample / (gamma_1_sample + gamma_2_sample)\n",
        "\n",
        "\n",
        "def mix_up(ds_one, ds_two, alpha=0.2):\n",
        "    # Unpack two datasets\n",
        "    images_one, labels_one = ds_one\n",
        "    images_two, labels_two = ds_two\n",
        "    batch_size = tf.shape(images_one)[0]\n",
        "\n",
        "    # Sample lambda and reshape it to do the mixup\n",
        "    l = sample_beta_distribution(batch_size, alpha, alpha)\n",
        "    x_l = tf.reshape(l, (batch_size, 1, 1, 1))\n",
        "    y_l = tf.reshape(l, (batch_size, 1))\n",
        "\n",
        "    # Perform mixup on both images and labels by combining a pair of images/labels\n",
        "    # (one from each dataset) into one image/label\n",
        "    images = images_one * x_l + images_two * (1 - x_l)\n",
        "    labels = labels_one * y_l + labels_two * (1 - y_l)\n",
        "    return (images, labels)"
      ],
      "metadata": {
        "id": "zAWRIDPHgawr"
      },
      "execution_count": 7,
      "outputs": []
    },
    {
      "cell_type": "code",
      "source": [
        "# First create the new dataset using our `mix_up` utility\n",
        "train_ds_mu = train_ds.map(\n",
        "    lambda ds_one, ds_two: mix_up(ds_one, ds_two, alpha=0.2), num_parallel_calls=AUTO\n",
        ")\n",
        "\n",
        "# Let's preview 9 samples from the dataset\n",
        "sample_images, sample_labels = next(iter(train_ds_mu))\n",
        "plt.figure(figsize=(10, 10))\n",
        "for i, (image, label) in enumerate(zip(sample_images[:9], sample_labels[:9])):\n",
        "    ax = plt.subplot(3, 3, i + 1)\n",
        "    plt.imshow(image.numpy().squeeze())\n",
        "    print(label.numpy().tolist())\n",
        "    plt.axis(\"off\")"
      ],
      "metadata": {
        "colab": {
          "base_uri": "https://localhost:8080/",
          "height": 741
        },
        "id": "Uod9Fldkg1y5",
        "outputId": "5f9d3bc9-1e4a-4bfb-bb9f-c4eac0279a4c"
      },
      "execution_count": 8,
      "outputs": [
        {
          "output_type": "stream",
          "name": "stdout",
          "text": [
            "[0.0, 0.8479857444763184, 0.0, 0.15201425552368164, 0.0, 0.0, 0.0, 0.0, 0.0, 0.0]\n",
            "[0.0, 0.0, 0.0, 5.008757580071688e-05, 0.0, 0.0, 0.0, 0.0, 0.0, 0.9999499320983887]\n",
            "[1.0, 0.0, 0.0, 0.0, 0.0, 0.0, 0.0, 0.0, 0.0, 0.0]\n",
            "[0.0, 0.0, 0.9776291251182556, 0.0, 0.022370871156454086, 0.0, 0.0, 0.0, 0.0, 0.0]\n",
            "[0.0, 0.0, 0.9998713135719299, 0.0, 0.0, 0.0, 0.0, 0.0001287082559429109, 0.0, 0.0]\n",
            "[0.0, 0.0, 0.5844891667366028, 0.0, 0.0, 0.0, 0.0, 0.0, 0.0, 0.4155108332633972]\n",
            "[0.0, 0.0, 0.0, 0.0, 0.0, 0.0, 0.0, 0.19464385509490967, 0.0, 0.8053561449050903]\n",
            "[0.0, 0.0, 0.0, 0.0, 0.0, 0.029326677322387695, 0.0, 0.9706733226776123, 0.0, 0.0]\n",
            "[0.0, 0.0, 0.0, 0.0, 0.23364941775798798, 0.7663505673408508, 0.0, 0.0, 0.0, 0.0]\n"
          ]
        },
        {
          "output_type": "display_data",
          "data": {
            "image/png": "[encoded data removed]",
            "text/plain": [
              "<Figure size 720x720 with 9 Axes>"
            ]
          },
          "metadata": {
            "needs_background": "light"
          }
        }
      ]
    },
    {
      "cell_type": "code",
      "source": [
        "def get_training_model():\n",
        "    model = tf.keras.Sequential(\n",
        "        [\n",
        "            layers.Conv2D(16, (5, 5), activation=\"relu\", input_shape=(28, 28, 1)),\n",
        "            layers.MaxPooling2D(pool_size=(2, 2)),\n",
        "            layers.Conv2D(32, (5, 5), activation=\"relu\"),\n",
        "            layers.MaxPooling2D(pool_size=(2, 2)),\n",
        "            layers.Dropout(0.2),\n",
        "            layers.GlobalAvgPool2D(),\n",
        "            layers.Dense(128, activation=\"relu\"),\n",
        "            layers.Dense(10, activation=\"softmax\"),\n",
        "        ]\n",
        "    )\n",
        "    return model\n",
        "\n",
        "initial_model = get_training_model()\n",
        "initial_model.save_weights(\"initial_weights.h5\")"
      ],
      "metadata": {
        "id": "7z5P9jZ0g49O"
      },
      "execution_count": 10,
      "outputs": []
    },
    {
      "cell_type": "code",
      "source": [
        "model = get_training_model()\n",
        "model.load_weights(\"initial_weights.h5\")\n",
        "model.compile(loss=\"categorical_crossentropy\", optimizer=\"adam\", metrics=[\"accuracy\"])\n",
        "model.fit(train_ds_mu, validation_data=val_ds, epochs=EPOCHS)\n",
        "_, test_acc = model.evaluate(test_ds)\n",
        "print(\"Test accuracy: {:.2f}%\".format(test_acc * 100))"
      ],
      "metadata": {
        "colab": {
          "base_uri": "https://localhost:8080/"
        },
        "id": "jGLEIrsqhQjH",
        "outputId": "041022fb-9fbf-4ac2-eb8a-8938867521d2"
      },
      "execution_count": 11,
      "outputs": [
        {
          "output_type": "stream",
          "name": "stdout",
          "text": [
            "Epoch 1/10\n",
            "907/907 [==============================] - 36s 38ms/step - loss: 1.1672 - accuracy: 0.6380 - val_loss: 0.6832 - val_accuracy: 0.7540\n",
            "Epoch 2/10\n",
            "907/907 [==============================] - 34s 37ms/step - loss: 0.9422 - accuracy: 0.7279 - val_loss: 0.5673 - val_accuracy: 0.8030\n",
            "Epoch 3/10\n",
            "907/907 [==============================] - 35s 38ms/step - loss: 0.8603 - accuracy: 0.7688 - val_loss: 0.5009 - val_accuracy: 0.8325\n",
            "Epoch 4/10\n",
            "907/907 [==============================] - 35s 38ms/step - loss: 0.8154 - accuracy: 0.7855 - val_loss: 0.4582 - val_accuracy: 0.8430\n",
            "Epoch 5/10\n",
            "907/907 [==============================] - 35s 38ms/step - loss: 0.7807 - accuracy: 0.7981 - val_loss: 0.4347 - val_accuracy: 0.8505\n",
            "Epoch 6/10\n",
            "907/907 [==============================] - 35s 39ms/step - loss: 0.7581 - accuracy: 0.8072 - val_loss: 0.4040 - val_accuracy: 0.8700\n",
            "Epoch 7/10\n",
            "907/907 [==============================] - 35s 39ms/step - loss: 0.7428 - accuracy: 0.8120 - val_loss: 0.3991 - val_accuracy: 0.8655\n",
            "Epoch 8/10\n",
            "907/907 [==============================] - 35s 39ms/step - loss: 0.7275 - accuracy: 0.8177 - val_loss: 0.3843 - val_accuracy: 0.8775\n",
            "Epoch 9/10\n",
            "907/907 [==============================] - 35s 38ms/step - loss: 0.7031 - accuracy: 0.8238 - val_loss: 0.3700 - val_accuracy: 0.8675\n",
            "Epoch 10/10\n",
            "907/907 [==============================] - 35s 38ms/step - loss: 0.6968 - accuracy: 0.8251 - val_loss: 0.3703 - val_accuracy: 0.8710\n",
            "157/157 [==============================] - 2s 11ms/step - loss: 0.4014 - accuracy: 0.8648\n",
            "Test accuracy: 86.48%\n"
          ]
        }
      ]
    },
    {
      "cell_type": "code",
      "source": [
        "model = get_training_model()\n",
        "model.load_weights(\"initial_weights.h5\")\n",
        "model.compile(loss=\"categorical_crossentropy\", optimizer=\"adam\", metrics=[\"accuracy\"])\n",
        "# Notice that we are NOT using the mixed up dataset here\n",
        "model.fit(train_ds_one, validation_data=val_ds, epochs=EPOCHS)\n",
        "_, test_acc = model.evaluate(test_ds)\n",
        "print(\"Test accuracy: {:.2f}%\".format(test_acc * 100))"
      ],
      "metadata": {
        "colab": {
          "base_uri": "https://localhost:8080/"
        },
        "id": "fVnBCnlkhV15",
        "outputId": "795696a8-738d-4586-f488-b3c8b4126fdc"
      },
      "execution_count": 12,
      "outputs": [
        {
          "output_type": "stream",
          "name": "stdout",
          "text": [
            "Epoch 1/10\n",
            "907/907 [==============================] - 42s 43ms/step - loss: 0.8998 - accuracy: 0.6642 - val_loss: 0.6550 - val_accuracy: 0.7530\n",
            "Epoch 2/10\n",
            "907/907 [==============================] - 34s 37ms/step - loss: 0.6223 - accuracy: 0.7659 - val_loss: 0.5463 - val_accuracy: 0.8035\n",
            "Epoch 3/10\n",
            "907/907 [==============================] - 35s 39ms/step - loss: 0.5430 - accuracy: 0.8008 - val_loss: 0.4783 - val_accuracy: 0.8375\n",
            "Epoch 4/10\n",
            "907/907 [==============================] - 34s 37ms/step - loss: 0.4919 - accuracy: 0.8212 - val_loss: 0.4478 - val_accuracy: 0.8395\n",
            "Epoch 5/10\n",
            "907/907 [==============================] - 34s 37ms/step - loss: 0.4563 - accuracy: 0.8344 - val_loss: 0.4110 - val_accuracy: 0.8575\n",
            "Epoch 6/10\n",
            "907/907 [==============================] - 34s 37ms/step - loss: 0.4267 - accuracy: 0.8446 - val_loss: 0.3916 - val_accuracy: 0.8630\n",
            "Epoch 7/10\n",
            "907/907 [==============================] - 34s 37ms/step - loss: 0.4074 - accuracy: 0.8521 - val_loss: 0.3638 - val_accuracy: 0.8675\n",
            "Epoch 8/10\n",
            "907/907 [==============================] - 33s 37ms/step - loss: 0.3885 - accuracy: 0.8574 - val_loss: 0.3454 - val_accuracy: 0.8700\n",
            "Epoch 9/10\n",
            "907/907 [==============================] - 34s 37ms/step - loss: 0.3757 - accuracy: 0.8619 - val_loss: 0.3484 - val_accuracy: 0.8660\n",
            "Epoch 10/10\n",
            "907/907 [==============================] - 34s 37ms/step - loss: 0.3627 - accuracy: 0.8658 - val_loss: 0.3397 - val_accuracy: 0.8740\n",
            "157/157 [==============================] - 2s 11ms/step - loss: 0.3699 - accuracy: 0.8635\n",
            "Test accuracy: 86.35%\n"
          ]
        }
      ]
    },
    {
      "cell_type": "code",
      "source": [
        ""
      ],
      "metadata": {
        "id": "-Rvp_4RtldGE"
      },
      "execution_count": null,
      "outputs": []
    }
  ]
}